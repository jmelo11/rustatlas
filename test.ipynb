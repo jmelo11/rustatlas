{
 "cells": [
  {
   "cell_type": "code",
   "execution_count": 1,
   "metadata": {},
   "outputs": [],
   "source": [
    "import QuantLib as ql"
   ]
  },
  {
   "cell_type": "code",
   "execution_count": 2,
   "metadata": {},
   "outputs": [],
   "source": [
    "date = ql.Date(1, 1, 2019)"
   ]
  },
  {
   "cell_type": "code",
   "execution_count": 3,
   "metadata": {},
   "outputs": [
    {
     "data": {
      "text/plain": [
       "Date(1,7,2019)"
      ]
     },
     "execution_count": 3,
     "metadata": {},
     "output_type": "execute_result"
    }
   ],
   "source": [
    "period = ql.Period(6, ql.Months)\n",
    "\n",
    "date+period\n"
   ]
  },
  {
   "cell_type": "code",
   "execution_count": 9,
   "metadata": {},
   "outputs": [
    {
     "name": "stdout",
     "output_type": "stream",
     "text": [
      "January 1st, 2019\n",
      "July 1st, 2019\n",
      "January 1st, 2020\n"
     ]
    }
   ],
   "source": [
    "#Schedule::Schedule(Date const &,Date const &,Period const &,Calendar const &,BusinessDayConvention,BusinessDayConvention,DateGeneration::Rule,bool)\n",
    "\n",
    "schedule = ql.Schedule(\n",
    "    ql.Date(1, 1, 2019),\n",
    "    ql.Date(1, 1, 2020),\n",
    "    ql.Period(6, ql.Months),\n",
    "    ql.NullCalendar(),\n",
    "    ql.Unadjusted,\n",
    "    ql.Unadjusted,\n",
    "    ql.DateGeneration.Forward, False\n",
    ")\n",
    "\n",
    "for d in schedule.dates():\n",
    "    print(d)"
   ]
  }
 ],
 "metadata": {
  "kernelspec": {
   "display_name": "Python 3",
   "language": "python",
   "name": "python3"
  },
  "language_info": {
   "codemirror_mode": {
    "name": "ipython",
    "version": 3
   },
   "file_extension": ".py",
   "mimetype": "text/x-python",
   "name": "python",
   "nbconvert_exporter": "python",
   "pygments_lexer": "ipython3",
   "version": "3.10.12"
  },
  "orig_nbformat": 4
 },
 "nbformat": 4,
 "nbformat_minor": 2
}
